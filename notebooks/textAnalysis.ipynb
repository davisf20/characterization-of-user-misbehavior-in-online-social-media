{
 "cells": [
  {
   "cell_type": "markdown",
   "source": [
    "# Text Analysis"
   ],
   "metadata": {
    "collapsed": false
   }
  },
  {
   "cell_type": "code",
   "execution_count": 1,
   "metadata": {
    "collapsed": true,
    "ExecuteTime": {
     "end_time": "2023-07-12T17:27:57.183269300Z",
     "start_time": "2023-07-12T17:27:55.780822800Z"
    }
   },
   "outputs": [],
   "source": [
    "import pandas as pd\n",
    "from tqdm import tqdm\n",
    "\n",
    "# Sentiment Analysis\n",
    "# from keras_preprocessing.sequence import pad_sequences\n",
    "# from sentita import calculate_polarity\n",
    "\n",
    "# Emotion Analysis\n",
    "from feel_it import EmotionClassifier\n",
    "\n",
    "# Toxicity Analysis\n",
    "from detoxify import Detoxify\n",
    "\n",
    "import re\n",
    "import urllib.parse"
   ]
  },
  {
   "cell_type": "code",
   "execution_count": 2,
   "outputs": [
    {
     "name": "stderr",
     "output_type": "stream",
     "text": [
      "C:\\Users\\davis\\AppData\\Local\\Temp\\ipykernel_12588\\1447714495.py:3: DtypeWarning: Columns (4) have mixed types. Specify dtype option on import or set low_memory=False.\n",
      "  tweets = pd.read_csv(\"../data/sample_tweets.csv\", #path/to/tweets_file\n"
     ]
    }
   ],
   "source": [
    "dateparse = lambda x: pd.to_datetime(x, format=\"%Y-%m-%d %H:%M:%S%z\")  # pd.datetime.strptime\n",
    "\n",
    "tweets = pd.read_csv(\"../data/sample_tweets.csv\", #path/to/tweets_file\n",
    "                     # nrows = 400000,\n",
    "                     parse_dates=['created_at'],\n",
    "                     converters={\"user_id\": str,\n",
    "                                 \"tweet_id\": str},\n",
    "                     date_parser=dateparse,\n",
    "                     lineterminator='\\n')\n",
    "\n",
    "newsguard_scores = pd.read_csv(\"../data/newsguard_scores.csv\", #path/to/newsguard_scores_file\n",
    "                              converters={\"name\": str},\n",
    "                              lineterminator='\\n')\n",
    "\n",
    "# Converti la colonna 'score' in float, convertendo i valori non validi in NaN\n",
    "newsguard_scores['score'] = pd.to_numeric(newsguard_scores['score'], errors='coerce')"
   ],
   "metadata": {
    "collapsed": false,
    "ExecuteTime": {
     "end_time": "2023-07-12T17:28:36.877725900Z",
     "start_time": "2023-07-12T17:27:57.185275700Z"
    }
   }
  },
  {
   "cell_type": "code",
   "execution_count": 12,
   "outputs": [],
   "source": [
    "tweets_copy = tweets.copy()"
   ],
   "metadata": {
    "collapsed": false,
    "ExecuteTime": {
     "end_time": "2023-07-12T17:37:27.124748Z",
     "start_time": "2023-07-12T17:37:26.215103700Z"
    }
   }
  },
  {
   "cell_type": "markdown",
   "source": [
    "## Preprocessing"
   ],
   "metadata": {
    "collapsed": false
   }
  },
  {
   "cell_type": "code",
   "execution_count": 13,
   "outputs": [],
   "source": [
    "# Sostituisci i valori NaN con '' nelle colonne 'text', 'retweeted_text' e 'quoted_text'\n",
    "tweets_copy['text'] = tweets_copy['text'].fillna('')\n",
    "tweets_copy['retweeted_text'] = tweets_copy['retweeted_text'].fillna('')\n",
    "tweets_copy['quoted_text'] = tweets_copy['quoted_text'].fillna('')\n",
    "\n",
    "# Assicurati che tutti i valori nelle colonne 'text', 'retweeted_text' e 'quoted_text' siano stringhe\n",
    "tweets_copy['text'] = tweets_copy['text'].astype(str)\n",
    "tweets_copy['retweeted_text'] = tweets_copy['retweeted_text'].astype(str)\n",
    "tweets_copy['quoted_text'] = tweets_copy['quoted_text'].astype(str)\n",
    "\n",
    "# Crea tre dataframe separati per 'text', 'retweeted_text' e 'quoted_text'\n",
    "text_df = tweets_copy[['tweet_id', 'text']].rename(columns={'text': 'all_text'})\n",
    "retweeted_text_df = tweets_copy[['tweet_id', 'retweeted_text']].rename(columns={'retweeted_text': 'all_text'})\n",
    "quoted_text_df = tweets_copy[['tweet_id', 'quoted_text']].rename(columns={'quoted_text': 'all_text'})\n",
    "\n",
    "# Concatena i dataframe\n",
    "all_text_df = pd.concat([text_df, retweeted_text_df, quoted_text_df])\n",
    "\n",
    "# Elimina le righe con all_text vuoto o nan\n",
    "all_text_df = all_text_df[all_text_df['all_text'].notna() & (all_text_df['all_text'] != '')]\n"
   ],
   "metadata": {
    "collapsed": false,
    "ExecuteTime": {
     "end_time": "2023-07-12T17:37:36.459357400Z",
     "start_time": "2023-07-12T17:37:30.040585900Z"
    }
   }
  },
  {
   "cell_type": "code",
   "execution_count": 16,
   "outputs": [],
   "source": [
    "# all_text_df.to_csv('../data/sample_tweets_only_text.csv', index=False)"
   ],
   "metadata": {
    "collapsed": false,
    "ExecuteTime": {
     "end_time": "2023-07-10T19:00:16.404854200Z",
     "start_time": "2023-07-10T18:59:58.479869400Z"
    }
   }
  },
  {
   "cell_type": "markdown",
   "source": [
    "## Sentiment Analysis"
   ],
   "metadata": {
    "collapsed": false
   }
  },
  {
   "cell_type": "markdown",
   "source": [
    "### SentITA"
   ],
   "metadata": {
    "collapsed": false
   }
  },
  {
   "cell_type": "code",
   "execution_count": null,
   "outputs": [],
   "source": [
    "sentiments = []\n",
    "for index, row in tqdm(all_text_df.iterrows(), total=all_text_df.shape[0]):\n",
    "    sentence = row['all_text']\n",
    "    results, polarities = calculate_polarity([sentence])\n",
    "    sentiment = {\n",
    "        'Positive': polarities[0][0],\n",
    "        'Negative': polarities[0][1]\n",
    "    }\n",
    "    sentiments.append(sentiment)\n",
    "\n",
    "all_text_df['Sentiment'] = sentiments\n",
    "\n",
    "all_text_df"
   ],
   "metadata": {
    "collapsed": false
   }
  },
  {
   "cell_type": "code",
   "execution_count": null,
   "outputs": [],
   "source": [
    "for index, row in all_text_df.iterrows():\n",
    "    sentiment = row['Sentiment']\n",
    "    positive_score = sentiment['Positive']\n",
    "    negative_score = sentiment['Negative']\n",
    "    print(f\"Positive score: {positive_score}, Negative score: {negative_score}\")\n"
   ],
   "metadata": {
    "collapsed": false
   }
  },
  {
   "cell_type": "markdown",
   "source": [
    "## Emotion Analysis"
   ],
   "metadata": {
    "collapsed": false
   }
  },
  {
   "cell_type": "markdown",
   "source": [
    "### FEEL-IT"
   ],
   "metadata": {
    "collapsed": false
   }
  },
  {
   "cell_type": "code",
   "execution_count": 14,
   "outputs": [
    {
     "data": {
      "text/plain": "                 tweet_id                                           all_text\n5     1340466213240135682  @maxdantoni E questo è quello che dice il Brit...\n7     1340466401111388162  🚫💉\\n\\n#vaccination #vaccinations   #vaccinatie...\n8     1340466489401503749  Quanta confusione con i vaccini,ci sono gli ef...\n11    1340466830633267205  Covid-20, datemi un vaccino nel giro di un qua...\n12    1340466917975461893  Quando stava per arrivare il vaccino ma lui va...\n...                   ...                                                ...\n2704  1340581560517599232  💉🤔🙄......😵🤬\\n😷   &lt; -- 2m -- &gt;  🧼!!! 🤷🏻‍♀...\n2707  1340581595556835329  #vaccinoCovid sarebbe meglio attivare un piano...\n2712  1340581721566228486  @Corriere Ci credo poco.\\nComunque sarà una va...\n2713  1340581727039840256  @de_basso @Gianmar26145917 @Totopri2 Banche a ...\n2714  1340581727958384640  @estinzionisti L'uomo si vanta di essere l'uni...\n\n[1000 rows x 2 columns]",
      "text/html": "<div>\n<style scoped>\n    .dataframe tbody tr th:only-of-type {\n        vertical-align: middle;\n    }\n\n    .dataframe tbody tr th {\n        vertical-align: top;\n    }\n\n    .dataframe thead th {\n        text-align: right;\n    }\n</style>\n<table border=\"1\" class=\"dataframe\">\n  <thead>\n    <tr style=\"text-align: right;\">\n      <th></th>\n      <th>tweet_id</th>\n      <th>all_text</th>\n    </tr>\n  </thead>\n  <tbody>\n    <tr>\n      <th>5</th>\n      <td>1340466213240135682</td>\n      <td>@maxdantoni E questo è quello che dice il Brit...</td>\n    </tr>\n    <tr>\n      <th>7</th>\n      <td>1340466401111388162</td>\n      <td>🚫💉\\n\\n#vaccination #vaccinations   #vaccinatie...</td>\n    </tr>\n    <tr>\n      <th>8</th>\n      <td>1340466489401503749</td>\n      <td>Quanta confusione con i vaccini,ci sono gli ef...</td>\n    </tr>\n    <tr>\n      <th>11</th>\n      <td>1340466830633267205</td>\n      <td>Covid-20, datemi un vaccino nel giro di un qua...</td>\n    </tr>\n    <tr>\n      <th>12</th>\n      <td>1340466917975461893</td>\n      <td>Quando stava per arrivare il vaccino ma lui va...</td>\n    </tr>\n    <tr>\n      <th>...</th>\n      <td>...</td>\n      <td>...</td>\n    </tr>\n    <tr>\n      <th>2704</th>\n      <td>1340581560517599232</td>\n      <td>💉🤔🙄......😵🤬\\n😷   &amp;lt; -- 2m -- &amp;gt;  🧼!!! 🤷🏻‍♀...</td>\n    </tr>\n    <tr>\n      <th>2707</th>\n      <td>1340581595556835329</td>\n      <td>#vaccinoCovid sarebbe meglio attivare un piano...</td>\n    </tr>\n    <tr>\n      <th>2712</th>\n      <td>1340581721566228486</td>\n      <td>@Corriere Ci credo poco.\\nComunque sarà una va...</td>\n    </tr>\n    <tr>\n      <th>2713</th>\n      <td>1340581727039840256</td>\n      <td>@de_basso @Gianmar26145917 @Totopri2 Banche a ...</td>\n    </tr>\n    <tr>\n      <th>2714</th>\n      <td>1340581727958384640</td>\n      <td>@estinzionisti L'uomo si vanta di essere l'uni...</td>\n    </tr>\n  </tbody>\n</table>\n<p>1000 rows × 2 columns</p>\n</div>"
     },
     "execution_count": 14,
     "metadata": {},
     "output_type": "execute_result"
    }
   ],
   "source": [
    "all_text_df = all_text_df.apply(lambda x: x[:1000])\n",
    "all_text_df\n",
    "# all_text_df.to_csv('../data/sample_tweets_only_text_small.csv', index=False)"
   ],
   "metadata": {
    "collapsed": false,
    "ExecuteTime": {
     "end_time": "2023-07-12T17:37:46.707725800Z",
     "start_time": "2023-07-12T17:37:46.585853300Z"
    }
   }
  },
  {
   "cell_type": "code",
   "execution_count": 11,
   "outputs": [
    {
     "name": "stderr",
     "output_type": "stream",
     "text": [
      "100%|██████████| 1000/1000 [01:39<00:00, 10.10it/s]\n"
     ]
    },
    {
     "data": {
      "text/plain": "                 tweet_id                                           all_text  \\\n5     1340466213240135682  @maxdantoni E questo è quello che dice il Brit...   \n7     1340466401111388162  🚫💉\\n\\n#vaccination #vaccinations   #vaccinatie...   \n8     1340466489401503749  Quanta confusione con i vaccini,ci sono gli ef...   \n11    1340466830633267205  Covid-20, datemi un vaccino nel giro di un qua...   \n12    1340466917975461893  Quando stava per arrivare il vaccino ma lui va...   \n...                   ...                                                ...   \n2704  1340581560517599232  💉🤔🙄......😵🤬\\n😷   &lt; -- 2m -- &gt;  🧼!!! 🤷🏻‍♀...   \n2707  1340581595556835329  #vaccinoCovid sarebbe meglio attivare un piano...   \n2712  1340581721566228486  @Corriere Ci credo poco.\\nComunque sarà una va...   \n2713  1340581727039840256  @de_basso @Gianmar26145917 @Totopri2 Banche a ...   \n2714  1340581727958384640  @estinzionisti L'uomo si vanta di essere l'uni...   \n\n      emotion  \n5        fear  \n7        fear  \n8       anger  \n11       fear  \n12    sadness  \n...       ...  \n2704      joy  \n2707     fear  \n2712     fear  \n2713    anger  \n2714    anger  \n\n[1000 rows x 3 columns]",
      "text/html": "<div>\n<style scoped>\n    .dataframe tbody tr th:only-of-type {\n        vertical-align: middle;\n    }\n\n    .dataframe tbody tr th {\n        vertical-align: top;\n    }\n\n    .dataframe thead th {\n        text-align: right;\n    }\n</style>\n<table border=\"1\" class=\"dataframe\">\n  <thead>\n    <tr style=\"text-align: right;\">\n      <th></th>\n      <th>tweet_id</th>\n      <th>all_text</th>\n      <th>emotion</th>\n    </tr>\n  </thead>\n  <tbody>\n    <tr>\n      <th>5</th>\n      <td>1340466213240135682</td>\n      <td>@maxdantoni E questo è quello che dice il Brit...</td>\n      <td>fear</td>\n    </tr>\n    <tr>\n      <th>7</th>\n      <td>1340466401111388162</td>\n      <td>🚫💉\\n\\n#vaccination #vaccinations   #vaccinatie...</td>\n      <td>fear</td>\n    </tr>\n    <tr>\n      <th>8</th>\n      <td>1340466489401503749</td>\n      <td>Quanta confusione con i vaccini,ci sono gli ef...</td>\n      <td>anger</td>\n    </tr>\n    <tr>\n      <th>11</th>\n      <td>1340466830633267205</td>\n      <td>Covid-20, datemi un vaccino nel giro di un qua...</td>\n      <td>fear</td>\n    </tr>\n    <tr>\n      <th>12</th>\n      <td>1340466917975461893</td>\n      <td>Quando stava per arrivare il vaccino ma lui va...</td>\n      <td>sadness</td>\n    </tr>\n    <tr>\n      <th>...</th>\n      <td>...</td>\n      <td>...</td>\n      <td>...</td>\n    </tr>\n    <tr>\n      <th>2704</th>\n      <td>1340581560517599232</td>\n      <td>💉🤔🙄......😵🤬\\n😷   &amp;lt; -- 2m -- &amp;gt;  🧼!!! 🤷🏻‍♀...</td>\n      <td>joy</td>\n    </tr>\n    <tr>\n      <th>2707</th>\n      <td>1340581595556835329</td>\n      <td>#vaccinoCovid sarebbe meglio attivare un piano...</td>\n      <td>fear</td>\n    </tr>\n    <tr>\n      <th>2712</th>\n      <td>1340581721566228486</td>\n      <td>@Corriere Ci credo poco.\\nComunque sarà una va...</td>\n      <td>fear</td>\n    </tr>\n    <tr>\n      <th>2713</th>\n      <td>1340581727039840256</td>\n      <td>@de_basso @Gianmar26145917 @Totopri2 Banche a ...</td>\n      <td>anger</td>\n    </tr>\n    <tr>\n      <th>2714</th>\n      <td>1340581727958384640</td>\n      <td>@estinzionisti L'uomo si vanta di essere l'uni...</td>\n      <td>anger</td>\n    </tr>\n  </tbody>\n</table>\n<p>1000 rows × 3 columns</p>\n</div>"
     },
     "execution_count": 11,
     "metadata": {},
     "output_type": "execute_result"
    }
   ],
   "source": [
    "emotion_classifier = EmotionClassifier()\n",
    "\n",
    "emotions = []\n",
    "for index, row in tqdm(all_text_df.iterrows(), total=all_text_df.shape[0]):\n",
    "    sentence = [row['all_text']]\n",
    "    emotion = emotion_classifier.predict(sentence)[0]\n",
    "    emotions.append(emotion)\n",
    "\n",
    "all_text_df['emotion'] = emotions\n",
    "\n",
    "# all_text_df.to_csv('../data/emotion_score.csv', index=False)\n",
    "\n",
    "all_text_df\n"
   ],
   "metadata": {
    "collapsed": false,
    "ExecuteTime": {
     "end_time": "2023-07-12T17:37:17.361653800Z",
     "start_time": "2023-07-12T17:35:35.560919700Z"
    }
   }
  },
  {
   "cell_type": "code",
   "execution_count": 15,
   "outputs": [
    {
     "name": "stderr",
     "output_type": "stream",
     "text": [
      "100%|██████████| 10/10 [03:19<00:00, 19.98s/it]\n"
     ]
    },
    {
     "data": {
      "text/plain": "                 tweet_id                                           all_text  \\\n5     1340466213240135682  @maxdantoni E questo è quello che dice il Brit...   \n7     1340466401111388162  🚫💉\\n\\n#vaccination #vaccinations   #vaccinatie...   \n8     1340466489401503749  Quanta confusione con i vaccini,ci sono gli ef...   \n11    1340466830633267205  Covid-20, datemi un vaccino nel giro di un qua...   \n12    1340466917975461893  Quando stava per arrivare il vaccino ma lui va...   \n...                   ...                                                ...   \n2704  1340581560517599232  💉🤔🙄......😵🤬\\n😷   &lt; -- 2m -- &gt;  🧼!!! 🤷🏻‍♀...   \n2707  1340581595556835329  #vaccinoCovid sarebbe meglio attivare un piano...   \n2712  1340581721566228486  @Corriere Ci credo poco.\\nComunque sarà una va...   \n2713  1340581727039840256  @de_basso @Gianmar26145917 @Totopri2 Banche a ...   \n2714  1340581727958384640  @estinzionisti L'uomo si vanta di essere l'uni...   \n\n      emotion  \n5        fear  \n7        fear  \n8       anger  \n11       fear  \n12    sadness  \n...       ...  \n2704      joy  \n2707     fear  \n2712     fear  \n2713    anger  \n2714    anger  \n\n[1000 rows x 3 columns]",
      "text/html": "<div>\n<style scoped>\n    .dataframe tbody tr th:only-of-type {\n        vertical-align: middle;\n    }\n\n    .dataframe tbody tr th {\n        vertical-align: top;\n    }\n\n    .dataframe thead th {\n        text-align: right;\n    }\n</style>\n<table border=\"1\" class=\"dataframe\">\n  <thead>\n    <tr style=\"text-align: right;\">\n      <th></th>\n      <th>tweet_id</th>\n      <th>all_text</th>\n      <th>emotion</th>\n    </tr>\n  </thead>\n  <tbody>\n    <tr>\n      <th>5</th>\n      <td>1340466213240135682</td>\n      <td>@maxdantoni E questo è quello che dice il Brit...</td>\n      <td>fear</td>\n    </tr>\n    <tr>\n      <th>7</th>\n      <td>1340466401111388162</td>\n      <td>🚫💉\\n\\n#vaccination #vaccinations   #vaccinatie...</td>\n      <td>fear</td>\n    </tr>\n    <tr>\n      <th>8</th>\n      <td>1340466489401503749</td>\n      <td>Quanta confusione con i vaccini,ci sono gli ef...</td>\n      <td>anger</td>\n    </tr>\n    <tr>\n      <th>11</th>\n      <td>1340466830633267205</td>\n      <td>Covid-20, datemi un vaccino nel giro di un qua...</td>\n      <td>fear</td>\n    </tr>\n    <tr>\n      <th>12</th>\n      <td>1340466917975461893</td>\n      <td>Quando stava per arrivare il vaccino ma lui va...</td>\n      <td>sadness</td>\n    </tr>\n    <tr>\n      <th>...</th>\n      <td>...</td>\n      <td>...</td>\n      <td>...</td>\n    </tr>\n    <tr>\n      <th>2704</th>\n      <td>1340581560517599232</td>\n      <td>💉🤔🙄......😵🤬\\n😷   &amp;lt; -- 2m -- &amp;gt;  🧼!!! 🤷🏻‍♀...</td>\n      <td>joy</td>\n    </tr>\n    <tr>\n      <th>2707</th>\n      <td>1340581595556835329</td>\n      <td>#vaccinoCovid sarebbe meglio attivare un piano...</td>\n      <td>fear</td>\n    </tr>\n    <tr>\n      <th>2712</th>\n      <td>1340581721566228486</td>\n      <td>@Corriere Ci credo poco.\\nComunque sarà una va...</td>\n      <td>fear</td>\n    </tr>\n    <tr>\n      <th>2713</th>\n      <td>1340581727039840256</td>\n      <td>@de_basso @Gianmar26145917 @Totopri2 Banche a ...</td>\n      <td>anger</td>\n    </tr>\n    <tr>\n      <th>2714</th>\n      <td>1340581727958384640</td>\n      <td>@estinzionisti L'uomo si vanta di essere l'uni...</td>\n      <td>anger</td>\n    </tr>\n  </tbody>\n</table>\n<p>1000 rows × 3 columns</p>\n</div>"
     },
     "execution_count": 15,
     "metadata": {},
     "output_type": "execute_result"
    }
   ],
   "source": [
    "emotion_classifier = EmotionClassifier()\n",
    "\n",
    "emotions = []\n",
    "batch_size = 100\n",
    "\n",
    "# Creazione dei batch\n",
    "for i in tqdm(range(0, all_text_df.shape[0], batch_size)):\n",
    "    batch = all_text_df.iloc[i:i+batch_size]['all_text'].tolist()\n",
    "    batch_emotions = emotion_classifier.predict(batch)\n",
    "    emotions.extend(batch_emotions)\n",
    "\n",
    "all_text_df['emotion'] = emotions\n",
    "# all_text_df.to_csv('../data/emotion_score.csv', index=False)\n",
    "all_text_df\n"
   ],
   "metadata": {
    "collapsed": false,
    "ExecuteTime": {
     "end_time": "2023-07-12T17:41:12.618445700Z",
     "start_time": "2023-07-12T17:37:50.615662600Z"
    }
   }
  },
  {
   "cell_type": "markdown",
   "source": [
    "## Toxicity Analysis"
   ],
   "metadata": {
    "collapsed": false
   }
  },
  {
   "cell_type": "markdown",
   "source": [
    "### Detoxify"
   ],
   "metadata": {
    "collapsed": false
   }
  },
  {
   "cell_type": "code",
   "execution_count": 6,
   "outputs": [
    {
     "name": "stderr",
     "output_type": "stream",
     "text": [
      "Downloading: \"https://github.com/unitaryai/detoxify/releases/download/v0.4-alpha/multilingual_debiased-0b549669.ckpt\" to C:\\Users\\davis/.cache\\torch\\hub\\checkpoints\\multilingual_debiased-0b549669.ckpt\n"
     ]
    },
    {
     "data": {
      "text/plain": "  0%|          | 0.00/1.04G [00:00<?, ?B/s]",
      "application/vnd.jupyter.widget-view+json": {
       "version_major": 2,
       "version_minor": 0,
       "model_id": "9416849dbddb4415af105cb7be30804e"
      }
     },
     "metadata": {},
     "output_type": "display_data"
    },
    {
     "data": {
      "text/plain": "Downloading (…)lve/main/config.json:   0%|          | 0.00/615 [00:00<?, ?B/s]",
      "application/vnd.jupyter.widget-view+json": {
       "version_major": 2,
       "version_minor": 0,
       "model_id": "b90bf2e5f9654cd68a99b44dec93a809"
      }
     },
     "metadata": {},
     "output_type": "display_data"
    },
    {
     "data": {
      "text/plain": "Downloading (…)tencepiece.bpe.model:   0%|          | 0.00/5.07M [00:00<?, ?B/s]",
      "application/vnd.jupyter.widget-view+json": {
       "version_major": 2,
       "version_minor": 0,
       "model_id": "96e0a23adde74473b363c1cbb8dcef1c"
      }
     },
     "metadata": {},
     "output_type": "display_data"
    },
    {
     "name": "stderr",
     "output_type": "stream",
     "text": [
      "  1%|          | 37724/4640204 [1:22:32<312:05:35,  4.10it/s]"
     ]
    }
   ],
   "source": [
    "model = Detoxify('multilingual')\n",
    "\n",
    "toxicities = []\n",
    "for index, row in tqdm(all_text_df.iterrows(), total=all_text_df.shape[0]):\n",
    "    sentence = row['all_text']\n",
    "    toxicity = model.predict(sentence)\n",
    "    toxicities.append(toxicity)\n",
    "\n",
    "all_text_df['toxicity'] = toxicities\n",
    "\n",
    "all_text_df\n"
   ],
   "metadata": {
    "collapsed": false,
    "ExecuteTime": {
     "end_time": "2023-07-07T22:56:28.636756700Z",
     "start_time": "2023-07-07T20:25:21.541758Z"
    }
   }
  },
  {
   "cell_type": "markdown",
   "source": [
    "## Misinformation Analysis"
   ],
   "metadata": {
    "collapsed": false
   }
  },
  {
   "cell_type": "code",
   "execution_count": 16,
   "outputs": [
    {
     "data": {
      "text/plain": "                    tweet_id  \\\n0        1340466213240135682   \n1        1340466401111388162   \n2        1340466489401503749   \n3        1340466830633267205   \n4        1340466917975461893   \n...                      ...   \n4640199  1375753714338828289   \n4640200  1375753786413694978   \n4640201  1375753788640931840   \n4640202  1375753790788362240   \n4640203  1375753791585275906   \n\n                                                  all_text  polarity  \\\n0        @maxdantoni E questo è quello che dice il Brit...       0.0   \n1        🚫💉\\n\\n#vaccination #vaccinations   #vaccinatie...       0.0   \n2        Quanta confusione con i vaccini,ci sono gli ef...       0.0   \n3        Covid-20, datemi un vaccino nel giro di un qua...       0.0   \n4        Quando stava per arrivare il vaccino ma lui va...       0.0   \n...                                                    ...       ...   \n4640199  Questa risposta da sola, all'interno delle FAQ...       0.0   \n4640200  NOVO MENE DAS VACINAS BRASILEIRAS https://t.co...       0.0   \n4640201  \"Brusaferro\":\\nPerché in un'intervista al @Cor...       0.0   \n4640202  Draghi e Speranza motivano la scelta sulle scu...       0.0   \n4640203  14/03\\nil 49% degli uomini repubblicani non vu...       0.0   \n\n         subjectivity    neg    neu    pos  compound  \\\n0                 0.0  0.073  0.927  0.000   -0.4588   \n1                 0.0  0.000  1.000  0.000    0.0000   \n2                 0.0  0.000  1.000  0.000    0.0000   \n3                 0.0  0.000  1.000  0.000    0.0000   \n4                 0.0  0.000  1.000  0.000    0.0000   \n...               ...    ...    ...    ...       ...   \n4640199           0.0  0.000  1.000  0.000    0.0000   \n4640200           0.0  0.000  1.000  0.000    0.0000   \n4640201           0.0  0.000  0.936  0.064    0.3400   \n4640202           0.0  0.000  1.000  0.000    0.0000   \n4640203           0.0  0.000  1.000  0.000    0.0000   \n\n                                                      link domain name  score  \n0                                [https://t.co/XF1BegpbKd]   t.co  NaN    NaN  \n1                                [https://t.co/2DVh4RmwVX]   t.co  NaN    NaN  \n2                                                       []   None  NaN    NaN  \n3                                [https://t.co/u2egYIILPp]   t.co  NaN    NaN  \n4                                [https://t.co/G9lVkvCIC2]   t.co  NaN    NaN  \n...                                                    ...    ...  ...    ...  \n4640199  [https://t.co/luwO2GBCfc, https://t.co/30NbbTF...   t.co  NaN    NaN  \n4640200                          [https://t.co/5OihXD939x]   t.co  NaN    NaN  \n4640201                          [https://t.co/n4sfzBojMv]   t.co  NaN    NaN  \n4640202                                                 []   None  NaN    NaN  \n4640203                          [https://t.co/cTf34I58KC]   t.co  NaN    NaN  \n\n[4640204 rows x 12 columns]",
      "text/html": "<div>\n<style scoped>\n    .dataframe tbody tr th:only-of-type {\n        vertical-align: middle;\n    }\n\n    .dataframe tbody tr th {\n        vertical-align: top;\n    }\n\n    .dataframe thead th {\n        text-align: right;\n    }\n</style>\n<table border=\"1\" class=\"dataframe\">\n  <thead>\n    <tr style=\"text-align: right;\">\n      <th></th>\n      <th>tweet_id</th>\n      <th>all_text</th>\n      <th>polarity</th>\n      <th>subjectivity</th>\n      <th>neg</th>\n      <th>neu</th>\n      <th>pos</th>\n      <th>compound</th>\n      <th>link</th>\n      <th>domain</th>\n      <th>name</th>\n      <th>score</th>\n    </tr>\n  </thead>\n  <tbody>\n    <tr>\n      <th>0</th>\n      <td>1340466213240135682</td>\n      <td>@maxdantoni E questo è quello che dice il Brit...</td>\n      <td>0.0</td>\n      <td>0.0</td>\n      <td>0.073</td>\n      <td>0.927</td>\n      <td>0.000</td>\n      <td>-0.4588</td>\n      <td>[https://t.co/XF1BegpbKd]</td>\n      <td>t.co</td>\n      <td>NaN</td>\n      <td>NaN</td>\n    </tr>\n    <tr>\n      <th>1</th>\n      <td>1340466401111388162</td>\n      <td>🚫💉\\n\\n#vaccination #vaccinations   #vaccinatie...</td>\n      <td>0.0</td>\n      <td>0.0</td>\n      <td>0.000</td>\n      <td>1.000</td>\n      <td>0.000</td>\n      <td>0.0000</td>\n      <td>[https://t.co/2DVh4RmwVX]</td>\n      <td>t.co</td>\n      <td>NaN</td>\n      <td>NaN</td>\n    </tr>\n    <tr>\n      <th>2</th>\n      <td>1340466489401503749</td>\n      <td>Quanta confusione con i vaccini,ci sono gli ef...</td>\n      <td>0.0</td>\n      <td>0.0</td>\n      <td>0.000</td>\n      <td>1.000</td>\n      <td>0.000</td>\n      <td>0.0000</td>\n      <td>[]</td>\n      <td>None</td>\n      <td>NaN</td>\n      <td>NaN</td>\n    </tr>\n    <tr>\n      <th>3</th>\n      <td>1340466830633267205</td>\n      <td>Covid-20, datemi un vaccino nel giro di un qua...</td>\n      <td>0.0</td>\n      <td>0.0</td>\n      <td>0.000</td>\n      <td>1.000</td>\n      <td>0.000</td>\n      <td>0.0000</td>\n      <td>[https://t.co/u2egYIILPp]</td>\n      <td>t.co</td>\n      <td>NaN</td>\n      <td>NaN</td>\n    </tr>\n    <tr>\n      <th>4</th>\n      <td>1340466917975461893</td>\n      <td>Quando stava per arrivare il vaccino ma lui va...</td>\n      <td>0.0</td>\n      <td>0.0</td>\n      <td>0.000</td>\n      <td>1.000</td>\n      <td>0.000</td>\n      <td>0.0000</td>\n      <td>[https://t.co/G9lVkvCIC2]</td>\n      <td>t.co</td>\n      <td>NaN</td>\n      <td>NaN</td>\n    </tr>\n    <tr>\n      <th>...</th>\n      <td>...</td>\n      <td>...</td>\n      <td>...</td>\n      <td>...</td>\n      <td>...</td>\n      <td>...</td>\n      <td>...</td>\n      <td>...</td>\n      <td>...</td>\n      <td>...</td>\n      <td>...</td>\n      <td>...</td>\n    </tr>\n    <tr>\n      <th>4640199</th>\n      <td>1375753714338828289</td>\n      <td>Questa risposta da sola, all'interno delle FAQ...</td>\n      <td>0.0</td>\n      <td>0.0</td>\n      <td>0.000</td>\n      <td>1.000</td>\n      <td>0.000</td>\n      <td>0.0000</td>\n      <td>[https://t.co/luwO2GBCfc, https://t.co/30NbbTF...</td>\n      <td>t.co</td>\n      <td>NaN</td>\n      <td>NaN</td>\n    </tr>\n    <tr>\n      <th>4640200</th>\n      <td>1375753786413694978</td>\n      <td>NOVO MENE DAS VACINAS BRASILEIRAS https://t.co...</td>\n      <td>0.0</td>\n      <td>0.0</td>\n      <td>0.000</td>\n      <td>1.000</td>\n      <td>0.000</td>\n      <td>0.0000</td>\n      <td>[https://t.co/5OihXD939x]</td>\n      <td>t.co</td>\n      <td>NaN</td>\n      <td>NaN</td>\n    </tr>\n    <tr>\n      <th>4640201</th>\n      <td>1375753788640931840</td>\n      <td>\"Brusaferro\":\\nPerché in un'intervista al @Cor...</td>\n      <td>0.0</td>\n      <td>0.0</td>\n      <td>0.000</td>\n      <td>0.936</td>\n      <td>0.064</td>\n      <td>0.3400</td>\n      <td>[https://t.co/n4sfzBojMv]</td>\n      <td>t.co</td>\n      <td>NaN</td>\n      <td>NaN</td>\n    </tr>\n    <tr>\n      <th>4640202</th>\n      <td>1375753790788362240</td>\n      <td>Draghi e Speranza motivano la scelta sulle scu...</td>\n      <td>0.0</td>\n      <td>0.0</td>\n      <td>0.000</td>\n      <td>1.000</td>\n      <td>0.000</td>\n      <td>0.0000</td>\n      <td>[]</td>\n      <td>None</td>\n      <td>NaN</td>\n      <td>NaN</td>\n    </tr>\n    <tr>\n      <th>4640203</th>\n      <td>1375753791585275906</td>\n      <td>14/03\\nil 49% degli uomini repubblicani non vu...</td>\n      <td>0.0</td>\n      <td>0.0</td>\n      <td>0.000</td>\n      <td>1.000</td>\n      <td>0.000</td>\n      <td>0.0000</td>\n      <td>[https://t.co/cTf34I58KC]</td>\n      <td>t.co</td>\n      <td>NaN</td>\n      <td>NaN</td>\n    </tr>\n  </tbody>\n</table>\n<p>4640204 rows × 12 columns</p>\n</div>"
     },
     "execution_count": 16,
     "metadata": {},
     "output_type": "execute_result"
    }
   ],
   "source": [
    "# Funzione per estrarre domini dai link\n",
    "def extract_domain(link_list):\n",
    "    if link_list:  # Se la lista non è vuota\n",
    "        link = link_list[0]\n",
    "        parsed_uri = urllib.parse.urlparse(link)\n",
    "        domain = '{uri.netloc}'.format(uri=parsed_uri)\n",
    "        return domain\n",
    "    else:  # Se la lista è vuota\n",
    "        return None\n",
    "\n",
    "# Estrai tutti i link dai tweet\n",
    "all_text_df['link'] = all_text_df['all_text'].apply(lambda x: re.findall(r'(https?://[^\\s]+)', x))\n",
    "\n",
    "# Estrai il dominio da ogni link\n",
    "all_text_df['domain'] = all_text_df['link'].apply(extract_domain)\n",
    "\n",
    "# Unisci i tweet con newsguard_score in base al dominio\n",
    "all_text_df = all_text_df.merge(newsguard_scores, left_on='domain', right_on='name', how='left')\n",
    "\n",
    "all_text_df\n"
   ],
   "metadata": {
    "collapsed": false,
    "ExecuteTime": {
     "end_time": "2023-07-03T15:52:29.312151400Z",
     "start_time": "2023-07-03T15:52:16.338750500Z"
    }
   }
  }
 ],
 "metadata": {
  "kernelspec": {
   "display_name": "Python 3",
   "language": "python",
   "name": "python3"
  },
  "language_info": {
   "codemirror_mode": {
    "name": "ipython",
    "version": 2
   },
   "file_extension": ".py",
   "mimetype": "text/x-python",
   "name": "python",
   "nbconvert_exporter": "python",
   "pygments_lexer": "ipython2",
   "version": "2.7.6"
  }
 },
 "nbformat": 4,
 "nbformat_minor": 0
}
